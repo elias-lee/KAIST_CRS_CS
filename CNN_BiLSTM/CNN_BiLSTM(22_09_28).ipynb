{
  "nbformat": 4,
  "nbformat_minor": 0,
  "metadata": {
    "colab": {
      "provenance": [],
      "collapsed_sections": []
    },
    "kernelspec": {
      "name": "python3",
      "display_name": "Python 3"
    },
    "language_info": {
      "name": "python"
    },
    "accelerator": "GPU"
  },
  "cells": [
    {
      "cell_type": "code",
      "execution_count": 1,
      "metadata": {
        "id": "I2FdFsgOxW1O"
      },
      "outputs": [],
      "source": [
        "import random\n",
        "import copy\n",
        "import time\n",
        "import pandas as pd\n",
        "import numpy as np\n",
        "import gc\n",
        "import re\n",
        "import torch\n",
        "\n",
        "#import spacy\n",
        "from tqdm import tqdm_notebook, tnrange\n",
        "from tqdm.auto import tqdm\n",
        "\n",
        "tqdm.pandas(desc='Progress')\n",
        "from collections import Counter\n",
        "\n",
        "from nltk import word_tokenize\n",
        "\n",
        "import torch.nn as nn\n",
        "import torch.optim as optim\n",
        "import torch.nn.functional as F\n",
        "from torch.utils.data import Dataset, DataLoader\n",
        "from torch.nn.utils.rnn import pack_padded_sequence, pad_packed_sequence\n",
        "from torch.autograd import Variable\n",
        "from sklearn.metrics import f1_score\n",
        "import os \n",
        "\n",
        "from keras.preprocessing.text import Tokenizer\n",
        "from keras.preprocessing.sequence import pad_sequences\n",
        "\n",
        "# cross validation and metrics\n",
        "from sklearn.model_selection import StratifiedKFold\n",
        "from sklearn.metrics import f1_score\n",
        "from torch.optim.optimizer import Optimizer\n",
        "\n",
        "from sklearn.preprocessing import StandardScaler\n",
        "from multiprocessing import  Pool\n",
        "from functools import partial\n",
        "import numpy as np\n",
        "from sklearn.decomposition import PCA\n",
        "import torch as t\n",
        "import torch.nn as nn\n",
        "import torch.nn.functional as F\n",
        "\n",
        "import matplotlib.pyplot as plt"
      ]
    },
    {
      "cell_type": "code",
      "source": [
        "from google.colab import drive\n",
        "drive.mount('/content/drive')"
      ],
      "metadata": {
        "colab": {
          "base_uri": "https://localhost:8080/"
        },
        "id": "3zxlZoDDxbQT",
        "outputId": "3ae94b81-1949-471f-ef01-4ec34bcc7864"
      },
      "execution_count": 2,
      "outputs": [
        {
          "output_type": "stream",
          "name": "stdout",
          "text": [
            "Mounted at /content/drive\n"
          ]
        }
      ]
    },
    {
      "cell_type": "code",
      "source": [
        "!ls drive/MyDrive/crs/"
      ],
      "metadata": {
        "colab": {
          "base_uri": "https://localhost:8080/"
        },
        "id": "KiKxkonLxjHa",
        "outputId": "55a4699c-3f56-4e29-d111-9a6f45ef9c12"
      },
      "execution_count": 3,
      "outputs": [
        {
          "output_type": "stream",
          "name": "stdout",
          "text": [
            "CRS_2016_data_short.csv  crskor2011_2020.csv  glove.840B.300d.txt\n",
            "crs_final_df_kor.csv\t data\n"
          ]
        }
      ]
    },
    {
      "cell_type": "code",
      "source": [
        "!ls drive/MyDrive/crs/data/CRS 2016 data.txt"
      ],
      "metadata": {
        "colab": {
          "base_uri": "https://localhost:8080/"
        },
        "id": "bXSOv-Hq22-H",
        "outputId": "7475d1cc-9e0a-4679-ddff-f9d919129668"
      },
      "execution_count": 4,
      "outputs": [
        {
          "output_type": "stream",
          "name": "stdout",
          "text": [
            "ls: cannot access 'drive/MyDrive/crs/data/CRS': No such file or directory\n",
            "ls: cannot access '2016': No such file or directory\n",
            "ls: cannot access 'data.txt': No such file or directory\n"
          ]
        }
      ]
    },
    {
      "cell_type": "code",
      "source": [
        "data1 = pd.read_csv(\"drive/MyDrive/crs/crs_final_df_kor.csv\", header = 0)"
      ],
      "metadata": {
        "colab": {
          "base_uri": "https://localhost:8080/"
        },
        "id": "nwu6pN8ni16m",
        "outputId": "65ed5da4-309c-4d1e-e47c-3e6a2646f135"
      },
      "execution_count": 5,
      "outputs": [
        {
          "output_type": "stream",
          "name": "stderr",
          "text": [
            "/usr/local/lib/python3.7/dist-packages/IPython/core/interactiveshell.py:3326: DtypeWarning: Columns (6,58,59,90,91) have mixed types.Specify dtype option on import or set low_memory=False.\n",
            "  exec(code_obj, self.user_global_ns, self.user_ns)\n"
          ]
        }
      ]
    },
    {
      "cell_type": "code",
      "source": [
        "data1.columns"
      ],
      "metadata": {
        "id": "NOVZkbZ1lkg4",
        "colab": {
          "base_uri": "https://localhost:8080/"
        },
        "outputId": "ac90a959-91b0-4a6b-918a-5a7edc51458d"
      },
      "execution_count": 6,
      "outputs": [
        {
          "output_type": "execute_result",
          "data": {
            "text/plain": [
              "Index(['Unnamed: 0', 'Year', 'DonorCode', 'DonorName', 'AgencyCode',\n",
              "       'AgencyName', 'CrsID', 'ProjectNumber', 'InitialReport',\n",
              "       'RecipientCode', 'RecipientName', 'RegionCode', 'RegionName',\n",
              "       'IncomegroupCode', 'IncomegroupName', 'FlowCode', 'FlowName',\n",
              "       'Bi_Multi', 'Category', 'Finance_t', 'Aid_t', 'USD_Commitment',\n",
              "       'USD_Disbursement', 'USD_Received', 'USD_Commitment_Defl',\n",
              "       'USD_Disbursement_Defl', 'USD_Received_Defl', 'USD_Adjustment',\n",
              "       'USD_Adjustment_Defl', 'USD_AmountUntied', 'USD_AmountPartialTied',\n",
              "       'USD_AmountTied', 'USD_AmountUntied_Defl', 'USD_AmountPartialTied_Defl',\n",
              "       'USD_Amounttied_Defl', 'USD_IRTC', 'USD_Expert_Commitment',\n",
              "       'USD_Expert_Extended', 'USD_Export_Credit', 'CurrencyCode',\n",
              "       'Commitment_National', 'Disbursement_National', 'GrantEquiv',\n",
              "       'USD_GrantEquiv', 'ShortDescription', 'ProjectTitle', 'PurposeCode',\n",
              "       'PurposeName', 'SectorCode', 'SectorName', 'ChannelCode', 'ChannelName',\n",
              "       'ChannelReportedName', 'ParentChannelCode', 'Geography',\n",
              "       'ExpectedStartDate', 'CompletionDate', 'LongDescription', 'SDGfocus',\n",
              "       'Keywords', 'Gender', 'Environment', 'PDGG', 'Trade', 'RMNCH', 'DRR',\n",
              "       'Nutrition', 'Disability', 'FTC', 'PBA', 'InvestmentProject',\n",
              "       'AssocFinance', 'Biodiversity', 'ClimateMitigation',\n",
              "       'ClimateAdaptation', 'Desertification', 'CommitmentDate',\n",
              "       'TypeRepayment', 'NumberRepayment', 'Interest1', 'Interest2',\n",
              "       'Repaydate1', 'Repaydate2', 'USD_Interest', 'USD_Outstanding',\n",
              "       'USD_Arrears_Principal', 'USD_Arrears_Interest', 'CapitalExpend',\n",
              "       'PSIflag', 'PSIAddType', 'PSIAddAssess', 'PSIAddDevObj', 'LDCflag',\n",
              "       'LDCflagName'],\n",
              "      dtype='object')"
            ]
          },
          "metadata": {},
          "execution_count": 6
        }
      ]
    },
    {
      "cell_type": "code",
      "source": [
        "data = data1.loc[:,[\"PurposeCode\",\"LongDescription\",\"ProjectTitle\", \"ShortDescription\"]]"
      ],
      "metadata": {
        "id": "etLhlLKllkaP"
      },
      "execution_count": 7,
      "outputs": []
    },
    {
      "cell_type": "code",
      "source": [
        "data.head(2)"
      ],
      "metadata": {
        "colab": {
          "base_uri": "https://localhost:8080/",
          "height": 112
        },
        "id": "EFM4tlmAlkQ3",
        "outputId": "953b8317-750a-44ea-cbb0-5737f9aec2da"
      },
      "execution_count": 8,
      "outputs": [
        {
          "output_type": "execute_result",
          "data": {
            "text/plain": [
              "   PurposeCode                                    LongDescription  \\\n",
              "0      12230.0  To provide medical equipment and consulting se...   \n",
              "1      31120.0  To educate governmental officials of developin...   \n",
              "\n",
              "                                        ProjectTitle  \\\n",
              "0  Medical Equipment Sector Development Loan Project   \n",
              "1  Master's degree program in Rural Development(2...   \n",
              "\n",
              "                                    ShortDescription  \n",
              "0  MEDICAL EQUIPMENT SECTOR DEVELOPMENT LOAN PROJECT  \n",
              "1  MASTER'S DEGREE PROGRAM IN RURAL DEVELOPMENT(2...  "
            ],
            "text/html": [
              "\n",
              "  <div id=\"df-db47ab5e-3ebf-46a1-af23-4715eeb48f98\">\n",
              "    <div class=\"colab-df-container\">\n",
              "      <div>\n",
              "<style scoped>\n",
              "    .dataframe tbody tr th:only-of-type {\n",
              "        vertical-align: middle;\n",
              "    }\n",
              "\n",
              "    .dataframe tbody tr th {\n",
              "        vertical-align: top;\n",
              "    }\n",
              "\n",
              "    .dataframe thead th {\n",
              "        text-align: right;\n",
              "    }\n",
              "</style>\n",
              "<table border=\"1\" class=\"dataframe\">\n",
              "  <thead>\n",
              "    <tr style=\"text-align: right;\">\n",
              "      <th></th>\n",
              "      <th>PurposeCode</th>\n",
              "      <th>LongDescription</th>\n",
              "      <th>ProjectTitle</th>\n",
              "      <th>ShortDescription</th>\n",
              "    </tr>\n",
              "  </thead>\n",
              "  <tbody>\n",
              "    <tr>\n",
              "      <th>0</th>\n",
              "      <td>12230.0</td>\n",
              "      <td>To provide medical equipment and consulting se...</td>\n",
              "      <td>Medical Equipment Sector Development Loan Project</td>\n",
              "      <td>MEDICAL EQUIPMENT SECTOR DEVELOPMENT LOAN PROJECT</td>\n",
              "    </tr>\n",
              "    <tr>\n",
              "      <th>1</th>\n",
              "      <td>31120.0</td>\n",
              "      <td>To educate governmental officials of developin...</td>\n",
              "      <td>Master's degree program in Rural Development(2...</td>\n",
              "      <td>MASTER'S DEGREE PROGRAM IN RURAL DEVELOPMENT(2...</td>\n",
              "    </tr>\n",
              "  </tbody>\n",
              "</table>\n",
              "</div>\n",
              "      <button class=\"colab-df-convert\" onclick=\"convertToInteractive('df-db47ab5e-3ebf-46a1-af23-4715eeb48f98')\"\n",
              "              title=\"Convert this dataframe to an interactive table.\"\n",
              "              style=\"display:none;\">\n",
              "        \n",
              "  <svg xmlns=\"http://www.w3.org/2000/svg\" height=\"24px\"viewBox=\"0 0 24 24\"\n",
              "       width=\"24px\">\n",
              "    <path d=\"M0 0h24v24H0V0z\" fill=\"none\"/>\n",
              "    <path d=\"M18.56 5.44l.94 2.06.94-2.06 2.06-.94-2.06-.94-.94-2.06-.94 2.06-2.06.94zm-11 1L8.5 8.5l.94-2.06 2.06-.94-2.06-.94L8.5 2.5l-.94 2.06-2.06.94zm10 10l.94 2.06.94-2.06 2.06-.94-2.06-.94-.94-2.06-.94 2.06-2.06.94z\"/><path d=\"M17.41 7.96l-1.37-1.37c-.4-.4-.92-.59-1.43-.59-.52 0-1.04.2-1.43.59L10.3 9.45l-7.72 7.72c-.78.78-.78 2.05 0 2.83L4 21.41c.39.39.9.59 1.41.59.51 0 1.02-.2 1.41-.59l7.78-7.78 2.81-2.81c.8-.78.8-2.07 0-2.86zM5.41 20L4 18.59l7.72-7.72 1.47 1.35L5.41 20z\"/>\n",
              "  </svg>\n",
              "      </button>\n",
              "      \n",
              "  <style>\n",
              "    .colab-df-container {\n",
              "      display:flex;\n",
              "      flex-wrap:wrap;\n",
              "      gap: 12px;\n",
              "    }\n",
              "\n",
              "    .colab-df-convert {\n",
              "      background-color: #E8F0FE;\n",
              "      border: none;\n",
              "      border-radius: 50%;\n",
              "      cursor: pointer;\n",
              "      display: none;\n",
              "      fill: #1967D2;\n",
              "      height: 32px;\n",
              "      padding: 0 0 0 0;\n",
              "      width: 32px;\n",
              "    }\n",
              "\n",
              "    .colab-df-convert:hover {\n",
              "      background-color: #E2EBFA;\n",
              "      box-shadow: 0px 1px 2px rgba(60, 64, 67, 0.3), 0px 1px 3px 1px rgba(60, 64, 67, 0.15);\n",
              "      fill: #174EA6;\n",
              "    }\n",
              "\n",
              "    [theme=dark] .colab-df-convert {\n",
              "      background-color: #3B4455;\n",
              "      fill: #D2E3FC;\n",
              "    }\n",
              "\n",
              "    [theme=dark] .colab-df-convert:hover {\n",
              "      background-color: #434B5C;\n",
              "      box-shadow: 0px 1px 3px 1px rgba(0, 0, 0, 0.15);\n",
              "      filter: drop-shadow(0px 1px 2px rgba(0, 0, 0, 0.3));\n",
              "      fill: #FFFFFF;\n",
              "    }\n",
              "  </style>\n",
              "\n",
              "      <script>\n",
              "        const buttonEl =\n",
              "          document.querySelector('#df-db47ab5e-3ebf-46a1-af23-4715eeb48f98 button.colab-df-convert');\n",
              "        buttonEl.style.display =\n",
              "          google.colab.kernel.accessAllowed ? 'block' : 'none';\n",
              "\n",
              "        async function convertToInteractive(key) {\n",
              "          const element = document.querySelector('#df-db47ab5e-3ebf-46a1-af23-4715eeb48f98');\n",
              "          const dataTable =\n",
              "            await google.colab.kernel.invokeFunction('convertToInteractive',\n",
              "                                                     [key], {});\n",
              "          if (!dataTable) return;\n",
              "\n",
              "          const docLinkHtml = 'Like what you see? Visit the ' +\n",
              "            '<a target=\"_blank\" href=https://colab.research.google.com/notebooks/data_table.ipynb>data table notebook</a>'\n",
              "            + ' to learn more about interactive tables.';\n",
              "          element.innerHTML = '';\n",
              "          dataTable['output_type'] = 'display_data';\n",
              "          await google.colab.output.renderOutput(dataTable, element);\n",
              "          const docLink = document.createElement('div');\n",
              "          docLink.innerHTML = docLinkHtml;\n",
              "          element.appendChild(docLink);\n",
              "        }\n",
              "      </script>\n",
              "    </div>\n",
              "  </div>\n",
              "  "
            ]
          },
          "metadata": {},
          "execution_count": 8
        }
      ]
    },
    {
      "cell_type": "code",
      "source": [
        "data = data[pd.notnull(data['LongDescription'])] ; data.shape"
      ],
      "metadata": {
        "id": "cWgxXq4jmxQ5",
        "colab": {
          "base_uri": "https://localhost:8080/"
        },
        "outputId": "093beb24-6bb2-4e8a-f849-f7fa0ba9122a"
      },
      "execution_count": 13,
      "outputs": [
        {
          "output_type": "execute_result",
          "data": {
            "text/plain": [
              "(63977, 5)"
            ]
          },
          "metadata": {},
          "execution_count": 13
        }
      ]
    },
    {
      "cell_type": "code",
      "source": [
        "data = data[data['LongDescription'].str.len() > 25].reset_index(drop=True).copy() ; data.shape"
      ],
      "metadata": {
        "id": "53mXXsiWxszU"
      },
      "execution_count": 9,
      "outputs": []
    },
    {
      "cell_type": "code",
      "source": [
        "data['len'] = data['LongDescription'].apply(lambda s : len(s))"
      ],
      "metadata": {
        "id": "w0WstVxVxs-d"
      },
      "execution_count": 11,
      "outputs": []
    },
    {
      "cell_type": "code",
      "source": [
        "data.head(2)"
      ],
      "metadata": {
        "id": "tHMCsqejRoC4",
        "colab": {
          "base_uri": "https://localhost:8080/",
          "height": 112
        },
        "outputId": "3cc09716-dd74-492a-992a-675b6f6b0eee"
      },
      "execution_count": 14,
      "outputs": [
        {
          "output_type": "execute_result",
          "data": {
            "text/plain": [
              "   PurposeCode                                    LongDescription  \\\n",
              "0      12230.0  To provide medical equipment and consulting se...   \n",
              "1      31120.0  To educate governmental officials of developin...   \n",
              "\n",
              "                                        ProjectTitle  \\\n",
              "0  Medical Equipment Sector Development Loan Project   \n",
              "1  Master's degree program in Rural Development(2...   \n",
              "\n",
              "                                    ShortDescription  len  \n",
              "0  MEDICAL EQUIPMENT SECTOR DEVELOPMENT LOAN PROJECT   81  \n",
              "1  MASTER'S DEGREE PROGRAM IN RURAL DEVELOPMENT(2...  223  "
            ],
            "text/html": [
              "\n",
              "  <div id=\"df-88957d00-00ae-4989-adbf-eaf8ab6a206a\">\n",
              "    <div class=\"colab-df-container\">\n",
              "      <div>\n",
              "<style scoped>\n",
              "    .dataframe tbody tr th:only-of-type {\n",
              "        vertical-align: middle;\n",
              "    }\n",
              "\n",
              "    .dataframe tbody tr th {\n",
              "        vertical-align: top;\n",
              "    }\n",
              "\n",
              "    .dataframe thead th {\n",
              "        text-align: right;\n",
              "    }\n",
              "</style>\n",
              "<table border=\"1\" class=\"dataframe\">\n",
              "  <thead>\n",
              "    <tr style=\"text-align: right;\">\n",
              "      <th></th>\n",
              "      <th>PurposeCode</th>\n",
              "      <th>LongDescription</th>\n",
              "      <th>ProjectTitle</th>\n",
              "      <th>ShortDescription</th>\n",
              "      <th>len</th>\n",
              "    </tr>\n",
              "  </thead>\n",
              "  <tbody>\n",
              "    <tr>\n",
              "      <th>0</th>\n",
              "      <td>12230.0</td>\n",
              "      <td>To provide medical equipment and consulting se...</td>\n",
              "      <td>Medical Equipment Sector Development Loan Project</td>\n",
              "      <td>MEDICAL EQUIPMENT SECTOR DEVELOPMENT LOAN PROJECT</td>\n",
              "      <td>81</td>\n",
              "    </tr>\n",
              "    <tr>\n",
              "      <th>1</th>\n",
              "      <td>31120.0</td>\n",
              "      <td>To educate governmental officials of developin...</td>\n",
              "      <td>Master's degree program in Rural Development(2...</td>\n",
              "      <td>MASTER'S DEGREE PROGRAM IN RURAL DEVELOPMENT(2...</td>\n",
              "      <td>223</td>\n",
              "    </tr>\n",
              "  </tbody>\n",
              "</table>\n",
              "</div>\n",
              "      <button class=\"colab-df-convert\" onclick=\"convertToInteractive('df-88957d00-00ae-4989-adbf-eaf8ab6a206a')\"\n",
              "              title=\"Convert this dataframe to an interactive table.\"\n",
              "              style=\"display:none;\">\n",
              "        \n",
              "  <svg xmlns=\"http://www.w3.org/2000/svg\" height=\"24px\"viewBox=\"0 0 24 24\"\n",
              "       width=\"24px\">\n",
              "    <path d=\"M0 0h24v24H0V0z\" fill=\"none\"/>\n",
              "    <path d=\"M18.56 5.44l.94 2.06.94-2.06 2.06-.94-2.06-.94-.94-2.06-.94 2.06-2.06.94zm-11 1L8.5 8.5l.94-2.06 2.06-.94-2.06-.94L8.5 2.5l-.94 2.06-2.06.94zm10 10l.94 2.06.94-2.06 2.06-.94-2.06-.94-.94-2.06-.94 2.06-2.06.94z\"/><path d=\"M17.41 7.96l-1.37-1.37c-.4-.4-.92-.59-1.43-.59-.52 0-1.04.2-1.43.59L10.3 9.45l-7.72 7.72c-.78.78-.78 2.05 0 2.83L4 21.41c.39.39.9.59 1.41.59.51 0 1.02-.2 1.41-.59l7.78-7.78 2.81-2.81c.8-.78.8-2.07 0-2.86zM5.41 20L4 18.59l7.72-7.72 1.47 1.35L5.41 20z\"/>\n",
              "  </svg>\n",
              "      </button>\n",
              "      \n",
              "  <style>\n",
              "    .colab-df-container {\n",
              "      display:flex;\n",
              "      flex-wrap:wrap;\n",
              "      gap: 12px;\n",
              "    }\n",
              "\n",
              "    .colab-df-convert {\n",
              "      background-color: #E8F0FE;\n",
              "      border: none;\n",
              "      border-radius: 50%;\n",
              "      cursor: pointer;\n",
              "      display: none;\n",
              "      fill: #1967D2;\n",
              "      height: 32px;\n",
              "      padding: 0 0 0 0;\n",
              "      width: 32px;\n",
              "    }\n",
              "\n",
              "    .colab-df-convert:hover {\n",
              "      background-color: #E2EBFA;\n",
              "      box-shadow: 0px 1px 2px rgba(60, 64, 67, 0.3), 0px 1px 3px 1px rgba(60, 64, 67, 0.15);\n",
              "      fill: #174EA6;\n",
              "    }\n",
              "\n",
              "    [theme=dark] .colab-df-convert {\n",
              "      background-color: #3B4455;\n",
              "      fill: #D2E3FC;\n",
              "    }\n",
              "\n",
              "    [theme=dark] .colab-df-convert:hover {\n",
              "      background-color: #434B5C;\n",
              "      box-shadow: 0px 1px 3px 1px rgba(0, 0, 0, 0.15);\n",
              "      filter: drop-shadow(0px 1px 2px rgba(0, 0, 0, 0.3));\n",
              "      fill: #FFFFFF;\n",
              "    }\n",
              "  </style>\n",
              "\n",
              "      <script>\n",
              "        const buttonEl =\n",
              "          document.querySelector('#df-88957d00-00ae-4989-adbf-eaf8ab6a206a button.colab-df-convert');\n",
              "        buttonEl.style.display =\n",
              "          google.colab.kernel.accessAllowed ? 'block' : 'none';\n",
              "\n",
              "        async function convertToInteractive(key) {\n",
              "          const element = document.querySelector('#df-88957d00-00ae-4989-adbf-eaf8ab6a206a');\n",
              "          const dataTable =\n",
              "            await google.colab.kernel.invokeFunction('convertToInteractive',\n",
              "                                                     [key], {});\n",
              "          if (!dataTable) return;\n",
              "\n",
              "          const docLinkHtml = 'Like what you see? Visit the ' +\n",
              "            '<a target=\"_blank\" href=https://colab.research.google.com/notebooks/data_table.ipynb>data table notebook</a>'\n",
              "            + ' to learn more about interactive tables.';\n",
              "          element.innerHTML = '';\n",
              "          dataTable['output_type'] = 'display_data';\n",
              "          await google.colab.output.renderOutput(dataTable, element);\n",
              "          const docLink = document.createElement('div');\n",
              "          docLink.innerHTML = docLinkHtml;\n",
              "          element.appendChild(docLink);\n",
              "        }\n",
              "      </script>\n",
              "    </div>\n",
              "  </div>\n",
              "  "
            ]
          },
          "metadata": {},
          "execution_count": 14
        }
      ]
    },
    {
      "cell_type": "code",
      "source": [
        "embed_size = 300 # how big is each word vector\n",
        "max_features = 120000 # how many unique words to use (i.e num rows in embedding vector)\n",
        "maxlen = 750 # max number of words in a question to use\n",
        "batch_size = 512 # how many samples to process at once\n",
        "n_epochs = 5 # how many times to iterate over all samples\n",
        "n_splits = 5 # Number of K-fold Splits\n",
        "SEED = 10\n",
        "debug = 0"
      ],
      "metadata": {
        "id": "WjkBxOpixs76"
      },
      "execution_count": 15,
      "outputs": []
    },
    {
      "cell_type": "markdown",
      "source": [
        "## Define CNN model"
      ],
      "metadata": {
        "id": "-Vp-Zj8CHseK"
      }
    },
    {
      "cell_type": "code",
      "source": [
        "class CNN_Text(nn.Module):\n",
        "    \n",
        "    def __init__(self):\n",
        "        super(CNN_Text, self).__init__()\n",
        "        filter_sizes = [1,2,3,5]\n",
        "        num_filters = 36\n",
        "        n_classes = len(le.classes_)\n",
        "        self.embedding = nn.Embedding(max_features, embed_size)\n",
        "        self.embedding.weight = nn.Parameter(torch.tensor(embedding_matrix, dtype=torch.float32))\n",
        "        self.embedding.weight.requires_grad = False\n",
        "        self.convs1 = nn.ModuleList([nn.Conv2d(1, num_filters, (K, embed_size)) for K in filter_sizes])\n",
        "        self.dropout = nn.Dropout(0.1)\n",
        "        self.fc1 = nn.Linear(len(filter_sizes)*num_filters, n_classes)\n",
        "\n",
        "\n",
        "    def forward(self, x):\n",
        "        x = self.embedding(x)  \n",
        "        x = x.unsqueeze(1)  \n",
        "        x = [F.relu(conv(x)).squeeze(3) for conv in self.convs1] \n",
        "        x = [F.max_pool1d(i, i.size(2)).squeeze(2) for i in x]  \n",
        "        x = torch.cat(x, 1)\n",
        "        x = self.dropout(x)  \n",
        "        logit = self.fc1(x) \n",
        "        return logit"
      ],
      "metadata": {
        "id": "elOVYlkryx7q"
      },
      "execution_count": 16,
      "outputs": []
    },
    {
      "cell_type": "markdown",
      "source": [
        "## Define BiLSTM"
      ],
      "metadata": {
        "id": "vXuY-dU-rG-e"
      }
    },
    {
      "cell_type": "code",
      "source": [
        "class BiLSTM(nn.Module):\n",
        "    \n",
        "    def __init__(self):\n",
        "        super(BiLSTM, self).__init__()\n",
        "        self.hidden_size = 64\n",
        "        drp = 0.1\n",
        "        n_classes = len(le.classes_)\n",
        "        self.embedding = nn.Embedding(max_features, embed_size)\n",
        "        self.embedding.weight = nn.Parameter(torch.tensor(embedding_matrix, dtype=torch.float32))\n",
        "        self.embedding.weight.requires_grad = False\n",
        "        self.lstm = nn.LSTM(embed_size, self.hidden_size, bidirectional=True, batch_first=True)\n",
        "        self.linear = nn.Linear(self.hidden_size*4 , 64)\n",
        "        self.relu = nn.ReLU()\n",
        "        self.dropout = nn.Dropout(drp)\n",
        "        self.out = nn.Linear(64, n_classes)\n",
        "\n",
        "\n",
        "    def forward(self, x):\n",
        "        #rint(x.size())\n",
        "        h_embedding = self.embedding(x)\n",
        "        #_embedding = torch.squeeze(torch.unsqueeze(h_embedding, 0))\n",
        "        h_lstm, _ = self.lstm(h_embedding)\n",
        "        avg_pool = torch.mean(h_lstm, 1)\n",
        "        max_pool, _ = torch.max(h_lstm, 1)\n",
        "        conc = torch.cat(( avg_pool, max_pool), 1)\n",
        "        conc = self.relu(self.linear(conc))\n",
        "        conc = self.dropout(conc)\n",
        "        out = self.out(conc)\n",
        "        return out"
      ],
      "metadata": {
        "id": "R92XmxQyy5uc"
      },
      "execution_count": 17,
      "outputs": []
    },
    {
      "cell_type": "markdown",
      "source": [
        "## With minimum requirement\n",
        "- Over 100 classification"
      ],
      "metadata": {
        "id": "EBc4BUYEqJpn"
      }
    },
    {
      "cell_type": "code",
      "source": [
        "count_df = data[['PurposeCode','LongDescription']].groupby('PurposeCode').aggregate({'LongDescription':'count'}).reset_index().sort_values('LongDescription',ascending=False)\n",
        "count_df.head()"
      ],
      "metadata": {
        "colab": {
          "base_uri": "https://localhost:8080/",
          "height": 206
        },
        "id": "4CurKnL_x2RC",
        "outputId": "b045aaf9-bde5-4a47-d2bd-a267f3772524"
      },
      "execution_count": 18,
      "outputs": [
        {
          "output_type": "execute_result",
          "data": {
            "text/plain": [
              "    PurposeCode  LongDescription\n",
              "85      22040.0             4791\n",
              "46      15110.0             4635\n",
              "13      11420.0             4387\n",
              "4       11220.0             3356\n",
              "5       11230.0             2949"
            ],
            "text/html": [
              "\n",
              "  <div id=\"df-dc28a8ab-3b81-42fa-8f26-8083369c6c15\">\n",
              "    <div class=\"colab-df-container\">\n",
              "      <div>\n",
              "<style scoped>\n",
              "    .dataframe tbody tr th:only-of-type {\n",
              "        vertical-align: middle;\n",
              "    }\n",
              "\n",
              "    .dataframe tbody tr th {\n",
              "        vertical-align: top;\n",
              "    }\n",
              "\n",
              "    .dataframe thead th {\n",
              "        text-align: right;\n",
              "    }\n",
              "</style>\n",
              "<table border=\"1\" class=\"dataframe\">\n",
              "  <thead>\n",
              "    <tr style=\"text-align: right;\">\n",
              "      <th></th>\n",
              "      <th>PurposeCode</th>\n",
              "      <th>LongDescription</th>\n",
              "    </tr>\n",
              "  </thead>\n",
              "  <tbody>\n",
              "    <tr>\n",
              "      <th>85</th>\n",
              "      <td>22040.0</td>\n",
              "      <td>4791</td>\n",
              "    </tr>\n",
              "    <tr>\n",
              "      <th>46</th>\n",
              "      <td>15110.0</td>\n",
              "      <td>4635</td>\n",
              "    </tr>\n",
              "    <tr>\n",
              "      <th>13</th>\n",
              "      <td>11420.0</td>\n",
              "      <td>4387</td>\n",
              "    </tr>\n",
              "    <tr>\n",
              "      <th>4</th>\n",
              "      <td>11220.0</td>\n",
              "      <td>3356</td>\n",
              "    </tr>\n",
              "    <tr>\n",
              "      <th>5</th>\n",
              "      <td>11230.0</td>\n",
              "      <td>2949</td>\n",
              "    </tr>\n",
              "  </tbody>\n",
              "</table>\n",
              "</div>\n",
              "      <button class=\"colab-df-convert\" onclick=\"convertToInteractive('df-dc28a8ab-3b81-42fa-8f26-8083369c6c15')\"\n",
              "              title=\"Convert this dataframe to an interactive table.\"\n",
              "              style=\"display:none;\">\n",
              "        \n",
              "  <svg xmlns=\"http://www.w3.org/2000/svg\" height=\"24px\"viewBox=\"0 0 24 24\"\n",
              "       width=\"24px\">\n",
              "    <path d=\"M0 0h24v24H0V0z\" fill=\"none\"/>\n",
              "    <path d=\"M18.56 5.44l.94 2.06.94-2.06 2.06-.94-2.06-.94-.94-2.06-.94 2.06-2.06.94zm-11 1L8.5 8.5l.94-2.06 2.06-.94-2.06-.94L8.5 2.5l-.94 2.06-2.06.94zm10 10l.94 2.06.94-2.06 2.06-.94-2.06-.94-.94-2.06-.94 2.06-2.06.94z\"/><path d=\"M17.41 7.96l-1.37-1.37c-.4-.4-.92-.59-1.43-.59-.52 0-1.04.2-1.43.59L10.3 9.45l-7.72 7.72c-.78.78-.78 2.05 0 2.83L4 21.41c.39.39.9.59 1.41.59.51 0 1.02-.2 1.41-.59l7.78-7.78 2.81-2.81c.8-.78.8-2.07 0-2.86zM5.41 20L4 18.59l7.72-7.72 1.47 1.35L5.41 20z\"/>\n",
              "  </svg>\n",
              "      </button>\n",
              "      \n",
              "  <style>\n",
              "    .colab-df-container {\n",
              "      display:flex;\n",
              "      flex-wrap:wrap;\n",
              "      gap: 12px;\n",
              "    }\n",
              "\n",
              "    .colab-df-convert {\n",
              "      background-color: #E8F0FE;\n",
              "      border: none;\n",
              "      border-radius: 50%;\n",
              "      cursor: pointer;\n",
              "      display: none;\n",
              "      fill: #1967D2;\n",
              "      height: 32px;\n",
              "      padding: 0 0 0 0;\n",
              "      width: 32px;\n",
              "    }\n",
              "\n",
              "    .colab-df-convert:hover {\n",
              "      background-color: #E2EBFA;\n",
              "      box-shadow: 0px 1px 2px rgba(60, 64, 67, 0.3), 0px 1px 3px 1px rgba(60, 64, 67, 0.15);\n",
              "      fill: #174EA6;\n",
              "    }\n",
              "\n",
              "    [theme=dark] .colab-df-convert {\n",
              "      background-color: #3B4455;\n",
              "      fill: #D2E3FC;\n",
              "    }\n",
              "\n",
              "    [theme=dark] .colab-df-convert:hover {\n",
              "      background-color: #434B5C;\n",
              "      box-shadow: 0px 1px 3px 1px rgba(0, 0, 0, 0.15);\n",
              "      filter: drop-shadow(0px 1px 2px rgba(0, 0, 0, 0.3));\n",
              "      fill: #FFFFFF;\n",
              "    }\n",
              "  </style>\n",
              "\n",
              "      <script>\n",
              "        const buttonEl =\n",
              "          document.querySelector('#df-dc28a8ab-3b81-42fa-8f26-8083369c6c15 button.colab-df-convert');\n",
              "        buttonEl.style.display =\n",
              "          google.colab.kernel.accessAllowed ? 'block' : 'none';\n",
              "\n",
              "        async function convertToInteractive(key) {\n",
              "          const element = document.querySelector('#df-dc28a8ab-3b81-42fa-8f26-8083369c6c15');\n",
              "          const dataTable =\n",
              "            await google.colab.kernel.invokeFunction('convertToInteractive',\n",
              "                                                     [key], {});\n",
              "          if (!dataTable) return;\n",
              "\n",
              "          const docLinkHtml = 'Like what you see? Visit the ' +\n",
              "            '<a target=\"_blank\" href=https://colab.research.google.com/notebooks/data_table.ipynb>data table notebook</a>'\n",
              "            + ' to learn more about interactive tables.';\n",
              "          element.innerHTML = '';\n",
              "          dataTable['output_type'] = 'display_data';\n",
              "          await google.colab.output.renderOutput(dataTable, element);\n",
              "          const docLink = document.createElement('div');\n",
              "          docLink.innerHTML = docLinkHtml;\n",
              "          element.appendChild(docLink);\n",
              "        }\n",
              "      </script>\n",
              "    </div>\n",
              "  </div>\n",
              "  "
            ]
          },
          "metadata": {},
          "execution_count": 18
        }
      ]
    },
    {
      "cell_type": "code",
      "source": [
        "target_code = count_df[count_df['LongDescription']>100]['PurposeCode'].values ; count_df.shape"
      ],
      "metadata": {
        "id": "Gf8eSKBWx1SD"
      },
      "execution_count": 19,
      "outputs": []
    },
    {
      "cell_type": "code",
      "source": [
        "count_df['PurposeCode'].unique()"
      ],
      "metadata": {
        "colab": {
          "base_uri": "https://localhost:8080/"
        },
        "id": "Q4lmL0tJyFwT",
        "outputId": "a29a7800-4051-4900-aa5b-6e93eeae70b1"
      },
      "execution_count": 21,
      "outputs": [
        {
          "output_type": "execute_result",
          "data": {
            "text/plain": [
              "array([22040., 15110., 11420., 11220., 11230., 11110., 11120., 31120.,\n",
              "       43040., 11330., 12220., 16061., 12191., 11320., 31181., 16010.,\n",
              "       99810., 21020., 21050., 15130., 12110., 72010., 11240., 11430.,\n",
              "       22010., 43030., 11130., 43010., 32171., 41010., 12230., 31110.,\n",
              "       15170., 14010., 32310., 74020., 15111., 25010., 14020., 33120.,\n",
              "       31161., 33110., 32182., 14050., 21010., 12181., 31320., 23110.,\n",
              "       23630., 12264., 31163., 33181., 15112., 24010., 12261., 31166.,\n",
              "       15210., 32172., 21030., 13020., 41082., 32130., 33210., 43082.,\n",
              "       12250., 91010., 16020., 15113., 14030., 16062., 22020., 32161.,\n",
              "       41081., 16050., 23230., 31194., 31140., 32163., 12240., 15151.,\n",
              "       31310., 31381., 23210., 32110., 15114., 31210., 15160., 72040.,\n",
              "       31220., 43060., 31182., 22030., 21040., 23510., 31191., 16030.,\n",
              "       99820., 14015., 11182., 16063., 23183., 33140., 15250., 11260.,\n",
              "       12281., 31281., 31195., 32262., 31162., 32220., 73010., 14031.,\n",
              "       14021., 23181., 12263., 31192., 12182., 31150., 32120., 31391.,\n",
              "       72050., 43081., 13081., 32140., 13040., 32210., 41020., 23220.,\n",
              "       31193., 23640., 15150., 24040., 14022., 12262., 14040., 14081.,\n",
              "       52010., 23182., 23320., 16040., 32167., 15180., 41030., 11232.,\n",
              "       15152., 24030., 24081., 53040., 21081., 15153., 32168., 13030.,\n",
              "       31130., 53030., 24020., 23270., 15220., 23310., 41040., 14032.,\n",
              "       32268., 93010., 31282., 13010., 23340., 32164., 15142., 25020.,\n",
              "       15230., 15125., 23620., 33130., 11250., 31382., 60040., 12382.,\n",
              "       23360., 43073., 12320., 51010., 15190., 32162., 23410., 16064.,\n",
              "       31165., 21061., 11231., 32261., 33150.])"
            ]
          },
          "metadata": {},
          "execution_count": 21
        }
      ]
    },
    {
      "cell_type": "code",
      "source": [
        "target_code"
      ],
      "metadata": {
        "colab": {
          "base_uri": "https://localhost:8080/"
        },
        "id": "lNX4nI2eyGsr",
        "outputId": "e6740c50-755b-4d99-c712-ba8fe6e47f3e"
      },
      "execution_count": 22,
      "outputs": [
        {
          "output_type": "execute_result",
          "data": {
            "text/plain": [
              "array([22040., 15110., 11420., 11220., 11230., 11110., 11120., 31120.,\n",
              "       43040., 11330., 12220., 16061., 12191., 11320., 31181., 16010.,\n",
              "       99810., 21020., 21050., 15130., 12110., 72010., 11240., 11430.,\n",
              "       22010., 43030., 11130., 43010., 32171., 41010., 12230., 31110.,\n",
              "       15170., 14010., 32310., 74020., 15111., 25010., 14020., 33120.,\n",
              "       31161., 33110., 32182., 14050., 21010., 12181., 31320., 23110.,\n",
              "       23630., 12264., 31163., 33181., 15112., 24010., 12261., 31166.,\n",
              "       15210., 32172., 21030., 13020., 41082., 32130., 33210., 43082.,\n",
              "       12250., 91010., 16020., 15113., 14030., 16062., 22020., 32161.,\n",
              "       41081., 16050., 23230., 31194., 31140., 32163., 12240., 15151.,\n",
              "       31310., 31381., 23210., 32110., 15114., 31210., 15160., 72040.,\n",
              "       31220.])"
            ]
          },
          "metadata": {},
          "execution_count": 22
        }
      ]
    },
    {
      "cell_type": "code",
      "source": [
        "# from google.colab import files\n",
        "# count_df.to_csv('purpose_code.csv') \n",
        "# files.download('purpose_code.csv')"
      ],
      "metadata": {
        "colab": {
          "base_uri": "https://localhost:8080/",
          "height": 17
        },
        "id": "DGU6koJ0IVBE",
        "outputId": "efb67885-5c9d-4e36-d137-e97559b23d79"
      },
      "execution_count": 23,
      "outputs": [
        {
          "output_type": "display_data",
          "data": {
            "text/plain": [
              "<IPython.core.display.Javascript object>"
            ],
            "application/javascript": [
              "\n",
              "    async function download(id, filename, size) {\n",
              "      if (!google.colab.kernel.accessAllowed) {\n",
              "        return;\n",
              "      }\n",
              "      const div = document.createElement('div');\n",
              "      const label = document.createElement('label');\n",
              "      label.textContent = `Downloading \"${filename}\": `;\n",
              "      div.appendChild(label);\n",
              "      const progress = document.createElement('progress');\n",
              "      progress.max = size;\n",
              "      div.appendChild(progress);\n",
              "      document.body.appendChild(div);\n",
              "\n",
              "      const buffers = [];\n",
              "      let downloaded = 0;\n",
              "\n",
              "      const channel = await google.colab.kernel.comms.open(id);\n",
              "      // Send a message to notify the kernel that we're ready.\n",
              "      channel.send({})\n",
              "\n",
              "      for await (const message of channel.messages) {\n",
              "        // Send a message to notify the kernel that we're ready.\n",
              "        channel.send({})\n",
              "        if (message.buffers) {\n",
              "          for (const buffer of message.buffers) {\n",
              "            buffers.push(buffer);\n",
              "            downloaded += buffer.byteLength;\n",
              "            progress.value = downloaded;\n",
              "          }\n",
              "        }\n",
              "      }\n",
              "      const blob = new Blob(buffers, {type: 'application/binary'});\n",
              "      const a = document.createElement('a');\n",
              "      a.href = window.URL.createObjectURL(blob);\n",
              "      a.download = filename;\n",
              "      div.appendChild(a);\n",
              "      a.click();\n",
              "      div.remove();\n",
              "    }\n",
              "  "
            ]
          },
          "metadata": {}
        },
        {
          "output_type": "display_data",
          "data": {
            "text/plain": [
              "<IPython.core.display.Javascript object>"
            ],
            "application/javascript": [
              "download(\"download_05809feb-c0ba-4a9a-9ee9-1ea0c8fd4328\", \"purpose_code.csv\", 2826)"
            ]
          },
          "metadata": {}
        }
      ]
    },
    {
      "cell_type": "code",
      "source": [
        "def condition_parser(x):\n",
        "    if x in target_code:\n",
        "        return x\n",
        "    else:\n",
        "        return \"OTHER\"\n",
        "    \n",
        "data['PurposeCode'] = data['PurposeCode'].apply(lambda x: condition_parser(x))  "
      ],
      "metadata": {
        "id": "c4JapKRryOHO"
      },
      "execution_count": 24,
      "outputs": []
    },
    {
      "cell_type": "code",
      "source": [
        "data['PurposeCode'].unique()"
      ],
      "metadata": {
        "colab": {
          "base_uri": "https://localhost:8080/"
        },
        "id": "xe6N_8K1yRL5",
        "outputId": "28e7c9c0-e377-4ca6-cfde-2c4354a9fbb8"
      },
      "execution_count": 25,
      "outputs": [
        {
          "output_type": "execute_result",
          "data": {
            "text/plain": [
              "array([12230.0, 31120.0, 11420.0, 22010.0, 31161.0, 23630.0, 33110.0,\n",
              "       12240.0, 43040.0, 12264.0, 31163.0, 11110.0, 99810.0, 43030.0,\n",
              "       11320.0, 11120.0, 12220.0, 31320.0, 32182.0, 24010.0, 16061.0,\n",
              "       15170.0, 15110.0, 31181.0, 11430.0, 11330.0, 16010.0, 'OTHER',\n",
              "       11220.0, 41082.0, 72010.0, 15111.0, 15112.0, 21010.0, 32172.0,\n",
              "       12191.0, 12110.0, 12261.0, 11130.0, 16062.0, 32161.0, 25010.0,\n",
              "       72040.0, 23110.0, 74020.0, 22040.0, 32171.0, 12250.0, 15113.0,\n",
              "       43010.0, 41081.0, 16050.0, 23230.0, 23210.0, 15130.0, 21020.0,\n",
              "       33120.0, 33181.0, 41010.0, 13020.0, 14010.0, 15151.0, 11230.0,\n",
              "       21050.0, 31194.0, 14020.0, 33210.0, 15210.0, 32310.0, 21030.0,\n",
              "       14050.0, 31220.0, 12181.0, 91010.0, 31110.0, 32130.0, 11240.0,\n",
              "       32110.0, 31166.0, 14030.0, 32163.0, 31210.0, 31140.0, 22020.0,\n",
              "       15114.0, 43082.0, 31381.0, 15160.0, 31310.0, 16020.0], dtype=object)"
            ]
          },
          "metadata": {},
          "execution_count": 25
        }
      ]
    },
    {
      "cell_type": "code",
      "source": [
        "data['PurposeCode'] = data['PurposeCode'].map(str) ; data.shape"
      ],
      "metadata": {
        "id": "2AQYXbypySMQ"
      },
      "execution_count": 26,
      "outputs": []
    },
    {
      "cell_type": "code",
      "source": [
        "data.head(2)"
      ],
      "metadata": {
        "colab": {
          "base_uri": "https://localhost:8080/",
          "height": 112
        },
        "id": "mtGQ55q29vm1",
        "outputId": "405866a4-d51a-4989-e033-6bb2e55c0f0f"
      },
      "execution_count": 28,
      "outputs": [
        {
          "output_type": "execute_result",
          "data": {
            "text/plain": [
              "  PurposeCode                                    LongDescription  \\\n",
              "0     12230.0  To provide medical equipment and consulting se...   \n",
              "1     31120.0  To educate governmental officials of developin...   \n",
              "\n",
              "                                        ProjectTitle  \\\n",
              "0  Medical Equipment Sector Development Loan Project   \n",
              "1  Master's degree program in Rural Development(2...   \n",
              "\n",
              "                                    ShortDescription  len  \n",
              "0  MEDICAL EQUIPMENT SECTOR DEVELOPMENT LOAN PROJECT   81  \n",
              "1  MASTER'S DEGREE PROGRAM IN RURAL DEVELOPMENT(2...  223  "
            ],
            "text/html": [
              "\n",
              "  <div id=\"df-ce4c0131-b360-420c-a7b6-cf64eb2d4606\">\n",
              "    <div class=\"colab-df-container\">\n",
              "      <div>\n",
              "<style scoped>\n",
              "    .dataframe tbody tr th:only-of-type {\n",
              "        vertical-align: middle;\n",
              "    }\n",
              "\n",
              "    .dataframe tbody tr th {\n",
              "        vertical-align: top;\n",
              "    }\n",
              "\n",
              "    .dataframe thead th {\n",
              "        text-align: right;\n",
              "    }\n",
              "</style>\n",
              "<table border=\"1\" class=\"dataframe\">\n",
              "  <thead>\n",
              "    <tr style=\"text-align: right;\">\n",
              "      <th></th>\n",
              "      <th>PurposeCode</th>\n",
              "      <th>LongDescription</th>\n",
              "      <th>ProjectTitle</th>\n",
              "      <th>ShortDescription</th>\n",
              "      <th>len</th>\n",
              "    </tr>\n",
              "  </thead>\n",
              "  <tbody>\n",
              "    <tr>\n",
              "      <th>0</th>\n",
              "      <td>12230.0</td>\n",
              "      <td>To provide medical equipment and consulting se...</td>\n",
              "      <td>Medical Equipment Sector Development Loan Project</td>\n",
              "      <td>MEDICAL EQUIPMENT SECTOR DEVELOPMENT LOAN PROJECT</td>\n",
              "      <td>81</td>\n",
              "    </tr>\n",
              "    <tr>\n",
              "      <th>1</th>\n",
              "      <td>31120.0</td>\n",
              "      <td>To educate governmental officials of developin...</td>\n",
              "      <td>Master's degree program in Rural Development(2...</td>\n",
              "      <td>MASTER'S DEGREE PROGRAM IN RURAL DEVELOPMENT(2...</td>\n",
              "      <td>223</td>\n",
              "    </tr>\n",
              "  </tbody>\n",
              "</table>\n",
              "</div>\n",
              "      <button class=\"colab-df-convert\" onclick=\"convertToInteractive('df-ce4c0131-b360-420c-a7b6-cf64eb2d4606')\"\n",
              "              title=\"Convert this dataframe to an interactive table.\"\n",
              "              style=\"display:none;\">\n",
              "        \n",
              "  <svg xmlns=\"http://www.w3.org/2000/svg\" height=\"24px\"viewBox=\"0 0 24 24\"\n",
              "       width=\"24px\">\n",
              "    <path d=\"M0 0h24v24H0V0z\" fill=\"none\"/>\n",
              "    <path d=\"M18.56 5.44l.94 2.06.94-2.06 2.06-.94-2.06-.94-.94-2.06-.94 2.06-2.06.94zm-11 1L8.5 8.5l.94-2.06 2.06-.94-2.06-.94L8.5 2.5l-.94 2.06-2.06.94zm10 10l.94 2.06.94-2.06 2.06-.94-2.06-.94-.94-2.06-.94 2.06-2.06.94z\"/><path d=\"M17.41 7.96l-1.37-1.37c-.4-.4-.92-.59-1.43-.59-.52 0-1.04.2-1.43.59L10.3 9.45l-7.72 7.72c-.78.78-.78 2.05 0 2.83L4 21.41c.39.39.9.59 1.41.59.51 0 1.02-.2 1.41-.59l7.78-7.78 2.81-2.81c.8-.78.8-2.07 0-2.86zM5.41 20L4 18.59l7.72-7.72 1.47 1.35L5.41 20z\"/>\n",
              "  </svg>\n",
              "      </button>\n",
              "      \n",
              "  <style>\n",
              "    .colab-df-container {\n",
              "      display:flex;\n",
              "      flex-wrap:wrap;\n",
              "      gap: 12px;\n",
              "    }\n",
              "\n",
              "    .colab-df-convert {\n",
              "      background-color: #E8F0FE;\n",
              "      border: none;\n",
              "      border-radius: 50%;\n",
              "      cursor: pointer;\n",
              "      display: none;\n",
              "      fill: #1967D2;\n",
              "      height: 32px;\n",
              "      padding: 0 0 0 0;\n",
              "      width: 32px;\n",
              "    }\n",
              "\n",
              "    .colab-df-convert:hover {\n",
              "      background-color: #E2EBFA;\n",
              "      box-shadow: 0px 1px 2px rgba(60, 64, 67, 0.3), 0px 1px 3px 1px rgba(60, 64, 67, 0.15);\n",
              "      fill: #174EA6;\n",
              "    }\n",
              "\n",
              "    [theme=dark] .colab-df-convert {\n",
              "      background-color: #3B4455;\n",
              "      fill: #D2E3FC;\n",
              "    }\n",
              "\n",
              "    [theme=dark] .colab-df-convert:hover {\n",
              "      background-color: #434B5C;\n",
              "      box-shadow: 0px 1px 3px 1px rgba(0, 0, 0, 0.15);\n",
              "      filter: drop-shadow(0px 1px 2px rgba(0, 0, 0, 0.3));\n",
              "      fill: #FFFFFF;\n",
              "    }\n",
              "  </style>\n",
              "\n",
              "      <script>\n",
              "        const buttonEl =\n",
              "          document.querySelector('#df-ce4c0131-b360-420c-a7b6-cf64eb2d4606 button.colab-df-convert');\n",
              "        buttonEl.style.display =\n",
              "          google.colab.kernel.accessAllowed ? 'block' : 'none';\n",
              "\n",
              "        async function convertToInteractive(key) {\n",
              "          const element = document.querySelector('#df-ce4c0131-b360-420c-a7b6-cf64eb2d4606');\n",
              "          const dataTable =\n",
              "            await google.colab.kernel.invokeFunction('convertToInteractive',\n",
              "                                                     [key], {});\n",
              "          if (!dataTable) return;\n",
              "\n",
              "          const docLinkHtml = 'Like what you see? Visit the ' +\n",
              "            '<a target=\"_blank\" href=https://colab.research.google.com/notebooks/data_table.ipynb>data table notebook</a>'\n",
              "            + ' to learn more about interactive tables.';\n",
              "          element.innerHTML = '';\n",
              "          dataTable['output_type'] = 'display_data';\n",
              "          await google.colab.output.renderOutput(dataTable, element);\n",
              "          const docLink = document.createElement('div');\n",
              "          docLink.innerHTML = docLinkHtml;\n",
              "          element.appendChild(docLink);\n",
              "        }\n",
              "      </script>\n",
              "    </div>\n",
              "  </div>\n",
              "  "
            ]
          },
          "metadata": {},
          "execution_count": 28
        }
      ]
    },
    {
      "cell_type": "code",
      "source": [
        "data = data[data['PurposeCode']!='OTHER'] ; data.shape"
      ],
      "metadata": {
        "id": "zUN5RXQR-ZFn",
        "colab": {
          "base_uri": "https://localhost:8080/"
        },
        "outputId": "ba0650a0-6ccc-4e48-b665-099a2215f98a"
      },
      "execution_count": 29,
      "outputs": [
        {
          "output_type": "execute_result",
          "data": {
            "text/plain": [
              "(60540, 5)"
            ]
          },
          "metadata": {},
          "execution_count": 29
        }
      ]
    },
    {
      "cell_type": "markdown",
      "source": [
        "### Preprocessing"
      ],
      "metadata": {
        "id": "am7Gt0Ibqgok"
      }
    },
    {
      "cell_type": "code",
      "source": [
        "import re\n",
        "\n",
        "def clean_text(x):\n",
        "    pattern = r'[^a-zA-z0-9\\s]'\n",
        "    text = re.sub(pattern, '', x)\n",
        "    return x\n",
        "\n",
        "def clean_numbers(x):\n",
        "    if bool(re.search(r'\\d', x)):\n",
        "        x = re.sub('[0-9]{5,}', '#####', x)\n",
        "        x = re.sub('[0-9]{4}', '####', x)\n",
        "        x = re.sub('[0-9]{3}', '###', x)\n",
        "        x = re.sub('[0-9]{2}', '##', x)\n",
        "    return x"
      ],
      "metadata": {
        "id": "ePtwk59CyUH7"
      },
      "execution_count": 30,
      "outputs": []
    },
    {
      "cell_type": "code",
      "source": [
        "contraction_dict = {\"ain't\": \"is not\", \"aren't\": \"are not\",\"can't\": \"cannot\", \"'cause\": \"because\", \"could've\": \"could have\", \"couldn't\": \"could not\", \"didn't\": \"did not\",  \"doesn't\": \"does not\", \"don't\": \"do not\", \"hadn't\": \"had not\", \"hasn't\": \"has not\", \"haven't\": \"have not\", \"he'd\": \"he would\",\"he'll\": \"he will\", \"he's\": \"he is\", \"how'd\": \"how did\", \"how'd'y\": \"how do you\", \"how'll\": \"how will\", \"how's\": \"how is\",  \"I'd\": \"I would\", \"I'd've\": \"I would have\", \"I'll\": \"I will\", \"I'll've\": \"I will have\",\"I'm\": \"I am\", \"I've\": \"I have\", \"i'd\": \"i would\", \"i'd've\": \"i would have\", \"i'll\": \"i will\",  \"i'll've\": \"i will have\",\"i'm\": \"i am\", \"i've\": \"i have\", \"isn't\": \"is not\", \"it'd\": \"it would\", \"it'd've\": \"it would have\", \"it'll\": \"it will\", \"it'll've\": \"it will have\",\"it's\": \"it is\", \"let's\": \"let us\", \"ma'am\": \"madam\", \"mayn't\": \"may not\", \"might've\": \"might have\",\"mightn't\": \"might not\",\"mightn't've\": \"might not have\", \"must've\": \"must have\", \"mustn't\": \"must not\", \"mustn't've\": \"must not have\", \"needn't\": \"need not\", \"needn't've\": \"need not have\",\"o'clock\": \"of the clock\", \"oughtn't\": \"ought not\", \"oughtn't've\": \"ought not have\", \"shan't\": \"shall not\", \"sha'n't\": \"shall not\", \"shan't've\": \"shall not have\", \"she'd\": \"she would\", \"she'd've\": \"she would have\", \"she'll\": \"she will\", \"she'll've\": \"she will have\", \"she's\": \"she is\", \"should've\": \"should have\", \"shouldn't\": \"should not\", \"shouldn't've\": \"should not have\", \"so've\": \"so have\",\"so's\": \"so as\", \"this's\": \"this is\",\"that'd\": \"that would\", \"that'd've\": \"that would have\", \"that's\": \"that is\", \"there'd\": \"there would\", \"there'd've\": \"there would have\", \"there's\": \"there is\", \"here's\": \"here is\",\"they'd\": \"they would\", \"they'd've\": \"they would have\", \"they'll\": \"they will\", \"they'll've\": \"they will have\", \"they're\": \"they are\", \"they've\": \"they have\", \"to've\": \"to have\", \"wasn't\": \"was not\", \"we'd\": \"we would\", \"we'd've\": \"we would have\", \"we'll\": \"we will\", \"we'll've\": \"we will have\", \"we're\": \"we are\", \"we've\": \"we have\", \"weren't\": \"were not\", \"what'll\": \"what will\", \"what'll've\": \"what will have\", \"what're\": \"what are\",  \"what's\": \"what is\", \"what've\": \"what have\", \"when's\": \"when is\", \"when've\": \"when have\", \"where'd\": \"where did\", \"where's\": \"where is\", \"where've\": \"where have\", \"who'll\": \"who will\", \"who'll've\": \"who will have\", \"who's\": \"who is\", \"who've\": \"who have\", \"why's\": \"why is\", \"why've\": \"why have\", \"will've\": \"will have\", \"won't\": \"will not\", \"won't've\": \"will not have\", \"would've\": \"would have\", \"wouldn't\": \"would not\", \"wouldn't've\": \"would not have\", \"y'all\": \"you all\", \"y'all'd\": \"you all would\",\"y'all'd've\": \"you all would have\",\"y'all're\": \"you all are\",\"y'all've\": \"you all have\",\"you'd\": \"you would\", \"you'd've\": \"you would have\", \"you'll\": \"you will\", \"you'll've\": \"you will have\", \"you're\": \"you are\", \"you've\": \"you have\"}"
      ],
      "metadata": {
        "id": "KLDRTbEFVJhw"
      },
      "execution_count": 31,
      "outputs": []
    },
    {
      "cell_type": "code",
      "source": [
        "def _get_contractions(contraction_dict):\n",
        "    contraction_re = re.compile('(%s)' % '|'.join(contraction_dict.keys()))\n",
        "    return contraction_dict, contraction_re\n",
        "contractions, contractions_re = _get_contractions(contraction_dict)\n",
        "def replace_contractions(text):\n",
        "    def replace(match):\n",
        "        return contractions[match.group(0)]\n",
        "    return contractions_re.sub(replace, text)\n",
        "# Usage\n",
        "replace_contractions(\"this's a text with contraction\")"
      ],
      "metadata": {
        "colab": {
          "base_uri": "https://localhost:8080/",
          "height": 35
        },
        "id": "RNc1QpBqyVPX",
        "outputId": "fb67467f-6b16-4565-e250-e86e0c884638"
      },
      "execution_count": 32,
      "outputs": [
        {
          "output_type": "execute_result",
          "data": {
            "text/plain": [
              "'this is a text with contraction'"
            ],
            "application/vnd.google.colaboratory.intrinsic+json": {
              "type": "string"
            }
          },
          "metadata": {},
          "execution_count": 32
        }
      ]
    },
    {
      "cell_type": "code",
      "source": [
        "# lower the text\n",
        "data[\"LongDescription\"] = data[\"LongDescription\"].apply(lambda x: x.lower())\n",
        "\n",
        "# Clean the text\n",
        "data[\"LongDescription\"] = data[\"LongDescription\"].apply(lambda x: clean_text(x))\n",
        "\n",
        "# Clean numbers\n",
        "data[\"LongDescription\"] = data[\"LongDescription\"].apply(lambda x: clean_numbers(x))\n",
        "\n",
        "# Clean Contractions\n",
        "data[\"LongDescription\"] = data[\"LongDescription\"].apply(lambda x: replace_contractions(x))"
      ],
      "metadata": {
        "id": "hjiDuTY5yWU5"
      },
      "execution_count": 33,
      "outputs": []
    },
    {
      "cell_type": "code",
      "source": [
        "from sklearn.model_selection import train_test_split\n",
        "train_X, test_X, train_y, test_y = train_test_split(data['LongDescription'], data['PurposeCode'],\n",
        "                                                    stratify=data['PurposeCode'], \n",
        "                                                    test_size=0.25)"
      ],
      "metadata": {
        "id": "hLVxvObQyYnZ"
      },
      "execution_count": 34,
      "outputs": []
    },
    {
      "cell_type": "code",
      "source": [
        "print(\"Train shape : \",train_X.shape)\n",
        "print(\"Test shape : \",test_X.shape)"
      ],
      "metadata": {
        "colab": {
          "base_uri": "https://localhost:8080/"
        },
        "id": "XtHoeHHvycTa",
        "outputId": "1a35a3b0-c1b5-4226-a93b-af551ceb137a"
      },
      "execution_count": 35,
      "outputs": [
        {
          "output_type": "stream",
          "name": "stdout",
          "text": [
            "Train shape :  (45405,)\n",
            "Test shape :  (15135,)\n"
          ]
        }
      ]
    },
    {
      "cell_type": "code",
      "source": [
        "## Tokenize the sentences\n",
        "tokenizer = Tokenizer(num_words=max_features)\n",
        "tokenizer.fit_on_texts(list(train_X))\n",
        "train_X = tokenizer.texts_to_sequences(train_X)\n",
        "test_X = tokenizer.texts_to_sequences(test_X)\n",
        "\n",
        "## Pad the sentences \n",
        "train_X = pad_sequences(train_X, maxlen=maxlen)\n",
        "test_X = pad_sequences(test_X, maxlen=maxlen)"
      ],
      "metadata": {
        "id": "riBPxYWOydOS"
      },
      "execution_count": 36,
      "outputs": []
    },
    {
      "cell_type": "code",
      "source": [
        "from sklearn.preprocessing import LabelEncoder\n",
        "le = LabelEncoder()\n",
        "train_y = le.fit_transform(train_y.values)\n",
        "test_y = le.transform(test_y.values)"
      ],
      "metadata": {
        "id": "OFMcnv4DyeRX"
      },
      "execution_count": 37,
      "outputs": []
    },
    {
      "cell_type": "code",
      "source": [
        "le.classes_"
      ],
      "metadata": {
        "colab": {
          "base_uri": "https://localhost:8080/"
        },
        "id": "qnc0uHReyflm",
        "outputId": "b13e662b-432c-492b-f000-6a9845afcb74"
      },
      "execution_count": 38,
      "outputs": [
        {
          "output_type": "execute_result",
          "data": {
            "text/plain": [
              "array(['11110.0', '11120.0', '11130.0', '11220.0', '11230.0', '11240.0',\n",
              "       '11320.0', '11330.0', '11420.0', '11430.0', '12110.0', '12181.0',\n",
              "       '12191.0', '12220.0', '12230.0', '12240.0', '12250.0', '12261.0',\n",
              "       '12264.0', '13020.0', '14010.0', '14020.0', '14030.0', '14050.0',\n",
              "       '15110.0', '15111.0', '15112.0', '15113.0', '15114.0', '15130.0',\n",
              "       '15151.0', '15160.0', '15170.0', '15210.0', '16010.0', '16020.0',\n",
              "       '16050.0', '16061.0', '16062.0', '21010.0', '21020.0', '21030.0',\n",
              "       '21050.0', '22010.0', '22020.0', '22040.0', '23110.0', '23210.0',\n",
              "       '23230.0', '23630.0', '24010.0', '25010.0', '31110.0', '31120.0',\n",
              "       '31140.0', '31161.0', '31163.0', '31166.0', '31181.0', '31194.0',\n",
              "       '31210.0', '31220.0', '31310.0', '31320.0', '31381.0', '32110.0',\n",
              "       '32130.0', '32161.0', '32163.0', '32171.0', '32172.0', '32182.0',\n",
              "       '32310.0', '33110.0', '33120.0', '33181.0', '33210.0', '41010.0',\n",
              "       '41081.0', '41082.0', '43010.0', '43030.0', '43040.0', '43082.0',\n",
              "       '72010.0', '72040.0', '74020.0', '91010.0', '99810.0'],\n",
              "      dtype=object)"
            ]
          },
          "metadata": {},
          "execution_count": 38
        }
      ]
    },
    {
      "cell_type": "markdown",
      "source": [
        "### Load Global Vectors for Word Representation (GloVe)"
      ],
      "metadata": {
        "id": "-FbyJuR5yhrJ"
      }
    },
    {
      "cell_type": "code",
      "source": [
        "def load_glove(word_index):\n",
        "    EMBEDDING_FILE = 'drive/MyDrive/crs/glove.840B.300d.txt'\n",
        "    def get_coefs(word,*arr): return word, np.asarray(arr, dtype='float32')[:300]\n",
        "    embeddings_index = dict(get_coefs(*o.split(\" \")) for o in open(EMBEDDING_FILE))\n",
        "    \n",
        "    all_embs = np.stack(embeddings_index.values())\n",
        "    emb_mean,emb_std = -0.005838499,0.48782197\n",
        "    embed_size = all_embs.shape[1]\n",
        "\n",
        "    nb_words = min(max_features, len(word_index)+1)\n",
        "    embedding_matrix = np.random.normal(emb_mean, emb_std, (nb_words, embed_size))\n",
        "    for word, i in word_index.items():\n",
        "        if i >= max_features: continue\n",
        "        embedding_vector = embeddings_index.get(word)\n",
        "        if embedding_vector is not None: \n",
        "            embedding_matrix[i] = embedding_vector\n",
        "        else:\n",
        "            embedding_vector = embeddings_index.get(word.capitalize())\n",
        "            if embedding_vector is not None: \n",
        "                embedding_matrix[i] = embedding_vector\n",
        "    return embedding_matrix "
      ],
      "metadata": {
        "id": "_pSuy8gRygii"
      },
      "execution_count": 39,
      "outputs": []
    },
    {
      "cell_type": "code",
      "source": [
        "if debug:\n",
        "    embedding_matrix = np.random.randn(120000,300)\n",
        "else:\n",
        "    embedding_matrix = load_glove(tokenizer.word_index)"
      ],
      "metadata": {
        "colab": {
          "base_uri": "https://localhost:8080/"
        },
        "id": "6omN3dmayr3f",
        "outputId": "d57842cd-8816-441c-dcff-298870b55069"
      },
      "execution_count": 40,
      "outputs": [
        {
          "output_type": "stream",
          "name": "stderr",
          "text": [
            "/usr/local/lib/python3.7/dist-packages/IPython/core/interactiveshell.py:3326: FutureWarning: arrays to stack must be passed as a \"sequence\" type such as list or tuple. Support for non-sequence iterables such as generators is deprecated as of NumPy 1.16 and will raise an error in the future.\n",
            "  exec(code_obj, self.user_global_ns, self.user_ns)\n"
          ]
        }
      ]
    },
    {
      "cell_type": "code",
      "source": [
        "np.shape(embedding_matrix)"
      ],
      "metadata": {
        "colab": {
          "base_uri": "https://localhost:8080/"
        },
        "id": "cJXMZsNpyuic",
        "outputId": "90912ccf-7b96-4f48-e834-71b97c5d6cb6"
      },
      "execution_count": 41,
      "outputs": [
        {
          "output_type": "execute_result",
          "data": {
            "text/plain": [
              "(10490, 300)"
            ]
          },
          "metadata": {},
          "execution_count": 41
        }
      ]
    },
    {
      "cell_type": "markdown",
      "source": [
        "### Run CNN"
      ],
      "metadata": {
        "id": "JONtJSlqrPx5"
      }
    },
    {
      "cell_type": "code",
      "source": [
        "n_epochs = 10\n",
        "model = CNN_Text()\n",
        "loss_fn = nn.CrossEntropyLoss(reduction='sum')\n",
        "optimizer = torch.optim.Adam(filter(lambda p: p.requires_grad, model.parameters()), lr=0.001)\n",
        "model.cuda()\n",
        "\n",
        "# Load train and test in CUDA Memory\n",
        "x_train = torch.tensor(train_X, dtype=torch.long).cuda()\n",
        "y_train = torch.tensor(train_y, dtype=torch.long).cuda()\n",
        "x_cv = torch.tensor(test_X, dtype=torch.long).cuda()\n",
        "y_cv = torch.tensor(test_y, dtype=torch.long).cuda()\n",
        "\n",
        "# Create Torch datasets\n",
        "train = torch.utils.data.TensorDataset(x_train, y_train)\n",
        "valid = torch.utils.data.TensorDataset(x_cv, y_cv)\n",
        "\n",
        "# Create Data Loaders\n",
        "train_loader = torch.utils.data.DataLoader(train, batch_size=batch_size, shuffle=True)\n",
        "valid_loader = torch.utils.data.DataLoader(valid, batch_size=batch_size, shuffle=False)\n",
        "\n",
        "train_loss = []\n",
        "valid_loss = []\n",
        "\n",
        "for epoch in range(n_epochs):\n",
        "    start_time = time.time()\n",
        "    # Set model to train configuration\n",
        "    model.train()\n",
        "    avg_loss = 0.  \n",
        "    for i, (x_batch, y_batch) in enumerate(train_loader):\n",
        "        # Predict/Forward Pass\n",
        "        y_pred = model(x_batch)\n",
        "        # Compute loss\n",
        "        loss = loss_fn(y_pred, y_batch)\n",
        "        optimizer.zero_grad()\n",
        "        loss.backward()\n",
        "        optimizer.step()\n",
        "        avg_loss += loss.item() / len(train_loader)\n",
        "    \n",
        "    # Set model to validation configuration -Doesn't get trained here\n",
        "    model.eval()        \n",
        "    avg_val_loss = 0.\n",
        "    val_preds = np.zeros((len(x_cv),len(le.classes_))) \n",
        "    # keep/store predictions\n",
        "    with torch.no_grad(): # You should use no_grad session when you evaluate the model. (It is much faster!)\n",
        "      for i, (x_batch, y_batch) in enumerate(valid_loader): \n",
        "          y_pred = model(x_batch).detach()\n",
        "          avg_val_loss += loss_fn(y_pred, y_batch).item() / len(valid_loader)\n",
        "          val_preds[i * batch_size:(i+1) * batch_size] =F.softmax(y_pred, dim=1).cpu().numpy()\n",
        "    \n",
        "    # Check Accuracy\n",
        "    pred_y = val_preds.argmax(axis=1) \n",
        "    import sklearn.metrics\n",
        "    # val_accuracy = sum(val_preds.argmax(axis=1)==test_y)/len(test_y)\n",
        "    f1 = sklearn.metrics.f1_score(y_true=test_y,y_pred=pred_y,average='macro')\n",
        "    auc = sklearn.metrics.roc_auc_score(y_true=test_y,y_score=val_preds,multi_class='ovr')\n",
        "    \n",
        "    # Check Accuracy\n",
        "    val_accuracy = sum(val_preds.argmax(axis=1)==test_y)/len(test_y)\n",
        "    # #top k function\n",
        "    # prob, pred = val_preds.topk(3)\n",
        "    # le.inverse_transform(pred)\n",
        "\n",
        "    train_loss.append(avg_loss)\n",
        "    valid_loss.append(avg_val_loss)\n",
        "    elapsed_time = time.time() - start_time \n",
        "    print('Epoch {}/{} \\t loss={:.4f} \\t val_loss={:.4f}  \\t val_acc={:.4f} \\t f1={:.4f} \\t auc={:.4f} \\t time={:.2f}s'.format(\n",
        "                epoch + 1, n_epochs, avg_loss, avg_val_loss, val_accuracy, f1, auc ,elapsed_time))"
      ],
      "metadata": {
        "colab": {
          "base_uri": "https://localhost:8080/"
        },
        "id": "GtA3JrZnyzdU",
        "outputId": "a6854e59-2776-4a37-aaa8-fc9807389838"
      },
      "execution_count": 58,
      "outputs": [
        {
          "output_type": "stream",
          "name": "stdout",
          "text": [
            "Epoch 1/10 \t loss=1422.8176 \t val_loss=906.4872  \t val_acc=0.5912 \t f1=0.3103 \t auc=0.9602 \t time=58.98s\n",
            "Epoch 2/10 \t loss=721.6760 \t val_loss=552.3813  \t val_acc=0.7313 \t f1=0.5658 \t auc=0.9857 \t time=58.64s\n",
            "Epoch 3/10 \t loss=501.2635 \t val_loss=421.8432  \t val_acc=0.7898 \t f1=0.7058 \t auc=0.9908 \t time=58.85s\n",
            "Epoch 4/10 \t loss=402.4461 \t val_loss=355.4979  \t val_acc=0.8243 \t f1=0.7718 \t auc=0.9931 \t time=58.66s\n",
            "Epoch 5/10 \t loss=343.7602 \t val_loss=317.6417  \t val_acc=0.8357 \t f1=0.7945 \t auc=0.9941 \t time=58.96s\n",
            "Epoch 6/10 \t loss=303.5236 \t val_loss=290.8745  \t val_acc=0.8494 \t f1=0.8128 \t auc=0.9949 \t time=58.85s\n",
            "Epoch 7/10 \t loss=275.5143 \t val_loss=271.3539  \t val_acc=0.8598 \t f1=0.8287 \t auc=0.9954 \t time=58.84s\n",
            "Epoch 8/10 \t loss=252.5742 \t val_loss=256.5505  \t val_acc=0.8657 \t f1=0.8337 \t auc=0.9957 \t time=58.80s\n",
            "Epoch 9/10 \t loss=233.3543 \t val_loss=246.0643  \t val_acc=0.8708 \t f1=0.8420 \t auc=0.9959 \t time=58.95s\n",
            "Epoch 10/10 \t loss=218.8634 \t val_loss=236.2694  \t val_acc=0.8754 \t f1=0.8524 \t auc=0.9962 \t time=58.78s\n"
          ]
        }
      ]
    },
    {
      "cell_type": "code",
      "source": [
        "torch.save(model,'textcnn_model')"
      ],
      "metadata": {
        "id": "GW1mMESby1UY"
      },
      "execution_count": 54,
      "outputs": []
    },
    {
      "cell_type": "code",
      "source": [
        "def plot_graph(epochs):\n",
        "    fig = plt.figure(figsize=(12,12))\n",
        "    plt.title(\"Train/Validation Loss\")\n",
        "    plt.plot(list(np.arange(epochs) + 1) , train_loss, label='train')\n",
        "    plt.plot(list(np.arange(epochs) + 1), valid_loss, label='validation')\n",
        "    plt.xlabel('num_epochs', fontsize=12)\n",
        "    plt.ylabel('loss', fontsize=12)\n",
        "    plt.legend(loc='best')"
      ],
      "metadata": {
        "id": "1PFE9vOVy2nf"
      },
      "execution_count": 55,
      "outputs": []
    },
    {
      "cell_type": "code",
      "source": [
        "plot_graph(n_epochs)"
      ],
      "metadata": {
        "id": "_lBBDkN-y4y1",
        "colab": {
          "base_uri": "https://localhost:8080/",
          "height": 733
        },
        "outputId": "b4d4d657-e108-447f-a0da-a37873834462"
      },
      "execution_count": 56,
      "outputs": [
        {
          "output_type": "display_data",
          "data": {
            "text/plain": [
              "<Figure size 864x864 with 1 Axes>"
            ],
            "image/png": "[encoded data removed]"
          },
          "metadata": {
            "needs_background": "light"
          }
        }
      ]
    },
    {
      "cell_type": "markdown",
      "source": [
        "### Run biLSTM "
      ],
      "metadata": {
        "id": "5Deb2jkXHvgG"
      }
    },
    {
      "cell_type": "code",
      "source": [
        "n_epochs = 10\n",
        "model = BiLSTM()\n",
        "loss_fn = nn.CrossEntropyLoss(reduction='sum')\n",
        "optimizer = torch.optim.Adam(filter(lambda p: p.requires_grad, model.parameters()), lr=0.001)\n",
        "model.cuda()\n",
        "\n",
        "# Load train and test in CUDA Memory\n",
        "x_train = torch.tensor(train_X, dtype=torch.long).cuda()\n",
        "y_train = torch.tensor(train_y, dtype=torch.long).cuda()\n",
        "x_cv = torch.tensor(test_X, dtype=torch.long).cuda()\n",
        "y_cv = torch.tensor(test_y, dtype=torch.long).cuda()\n",
        "\n",
        "# Create Torch datasets\n",
        "train = torch.utils.data.TensorDataset(x_train, y_train)\n",
        "valid = torch.utils.data.TensorDataset(x_cv, y_cv)\n",
        "\n",
        "# Create Data Loaders\n",
        "train_loader = torch.utils.data.DataLoader(train, batch_size=batch_size, shuffle=True)\n",
        "valid_loader = torch.utils.data.DataLoader(valid, batch_size=batch_size, shuffle=False)\n",
        "\n",
        "train_loss = []\n",
        "valid_loss = []\n",
        "\n",
        "for epoch in range(n_epochs):\n",
        "    start_time = time.time()\n",
        "    # Set model to train configuration\n",
        "    model.train()\n",
        "    avg_loss = 0.  \n",
        "    for i, (x_batch, y_batch) in enumerate(train_loader):\n",
        "        # Predict/Forward Pass\n",
        "        y_pred = model(x_batch)\n",
        "        # Compute loss\n",
        "        loss = loss_fn(y_pred, y_batch)\n",
        "        optimizer.zero_grad()\n",
        "        loss.backward()\n",
        "        optimizer.step()\n",
        "        avg_loss += loss.item() / len(train_loader)\n",
        "    \n",
        "    # Set model to validation configuration -Doesn't get trained here\n",
        "    model.eval()        \n",
        "    avg_val_loss = 0.\n",
        "    val_preds = np.zeros((len(x_cv),len(le.classes_))) \n",
        "    # keep/store predictions\n",
        "    with torch.no_grad(): # You should use no_grad session when you evaluate the model. (It is much faster!)\n",
        "      for i, (x_batch, y_batch) in enumerate(valid_loader): \n",
        "          y_pred = model(x_batch).detach()\n",
        "          val_preds[i * batch_size:(i+1) * batch_size] =F.softmax(y_pred, dim=1).cpu().numpy()\n",
        "          avg_val_loss += loss_fn(y_pred, y_batch).item() / len(valid_loader)\n",
        "          # avg_val_loss += loss.item() / len(train_loader)\n",
        "    \n",
        "    # Check Accuracy\n",
        "    pred_y = val_preds.argmax(axis=1) \n",
        "    import sklearn.metrics\n",
        "    # val_accuracy = sum(val_preds.argmax(axis=1)==test_y)/len(test_y)\n",
        "    f1 = sklearn.metrics.f1_score(y_true=test_y,y_pred=pred_y,average='macro')\n",
        "    auc = sklearn.metrics.roc_auc_score(y_true=test_y,y_score=val_preds,multi_class='ovr')\n",
        "\n",
        "    # Check Accuracy\n",
        "    val_accuracy = sum(val_preds.argmax(axis=1)==test_y)/len(test_y)\n",
        "    train_loss.append(avg_loss)\n",
        "    valid_loss.append(avg_val_loss)\n",
        "    elapsed_time = time.time() - start_time \n",
        "    print('Epoch {}/{} \\t loss={:.4f} \\t val_loss={:.4f}  \\t val_acc={:.4f} \\t f1={:.4f} \\t auc={:.4f} \\t time={:.2f}s'.format(\n",
        "        epoch + 1, n_epochs, avg_loss, avg_val_loss, val_accuracy, f1, auc, elapsed_time))"
      ],
      "metadata": {
        "colab": {
          "base_uri": "https://localhost:8080/"
        },
        "id": "BYoN3y-jIA3o",
        "outputId": "bd56f3c5-51ad-4ce3-9e29-d94e342e5d9d"
      },
      "execution_count": 59,
      "outputs": [
        {
          "output_type": "stream",
          "name": "stdout",
          "text": [
            "Epoch 1/10 \t loss=1907.2467 \t val_loss=1549.7529  \t val_acc=0.2901 \t f1=0.0394 \t auc=0.8206 \t time=28.49s\n",
            "Epoch 2/10 \t loss=1326.9770 \t val_loss=1059.3453  \t val_acc=0.5029 \t f1=0.1584 \t auc=0.9315 \t time=29.14s\n",
            "Epoch 3/10 \t loss=956.2236 \t val_loss=785.6573  \t val_acc=0.6309 \t f1=0.3154 \t auc=0.9660 \t time=27.16s\n",
            "Epoch 4/10 \t loss=748.2835 \t val_loss=638.5461  \t val_acc=0.6996 \t f1=0.4367 \t auc=0.9772 \t time=27.79s\n",
            "Epoch 5/10 \t loss=615.9793 \t val_loss=533.2722  \t val_acc=0.7384 \t f1=0.5220 \t auc=0.9829 \t time=28.44s\n",
            "Epoch 6/10 \t loss=528.3821 \t val_loss=468.4903  \t val_acc=0.7697 \t f1=0.6123 \t auc=0.9860 \t time=27.69s\n",
            "Epoch 7/10 \t loss=466.4506 \t val_loss=434.2754  \t val_acc=0.7884 \t f1=0.6454 \t auc=0.9874 \t time=27.59s\n",
            "Epoch 8/10 \t loss=422.7111 \t val_loss=399.1803  \t val_acc=0.8057 \t f1=0.6916 \t auc=0.9892 \t time=27.71s\n",
            "Epoch 9/10 \t loss=378.4443 \t val_loss=366.8725  \t val_acc=0.8240 \t f1=0.7379 \t auc=0.9905 \t time=27.66s\n",
            "Epoch 10/10 \t loss=351.5766 \t val_loss=354.8829  \t val_acc=0.8226 \t f1=0.7414 \t auc=0.9910 \t time=28.13s\n"
          ]
        }
      ]
    },
    {
      "cell_type": "code",
      "source": [
        "torch.save(model,'bilstm_model')"
      ],
      "metadata": {
        "id": "QaPqOEz6ID-j"
      },
      "execution_count": 60,
      "outputs": []
    },
    {
      "cell_type": "code",
      "source": [
        "plot_graph(n_epochs)"
      ],
      "metadata": {
        "colab": {
          "base_uri": "https://localhost:8080/",
          "height": 733
        },
        "id": "8dchAGK5IHBb",
        "outputId": "54580159-afb6-48c7-a636-86a914d9468e"
      },
      "execution_count": 61,
      "outputs": [
        {
          "output_type": "display_data",
          "data": {
            "text/plain": [
              "<Figure size 864x864 with 1 Axes>"
            ],
            "image/png": "[encoded data removed]"
          },
          "metadata": {
            "needs_background": "light"
          }
        }
      ]
    },
    {
      "cell_type": "markdown",
      "source": [
        "F1 / AUROC Evaluation"
      ],
      "metadata": {
        "id": "UrdNIt1x6eQo"
      }
    },
    {
      "cell_type": "code",
      "source": [
        "model.eval()        \n",
        "avg_val_loss = 0.\n",
        "val_preds = np.zeros((len(x_cv),len(le.classes_))) \n",
        "# keep/store predictions\n",
        "with torch.no_grad(): # You should use no_grad session when you evaluate the model. (It is much faster!)\n",
        "  for i, (x_batch, y_batch) in enumerate(valid_loader): \n",
        "      y_pred = model(x_batch).detach()\n",
        "      val_preds[i * batch_size:(i+1) * batch_size] =F.softmax(y_pred, dim=1).cpu().numpy()\n",
        "\n",
        "# Check Accuracy\n",
        "pred_y = val_preds.argmax(axis=1) \n",
        "import sklearn.metrics\n",
        "# val_accuracy = sum(val_preds.argmax(axis=1)==test_y)/len(test_y)\n",
        "acc = sklearn.metrics.accuracy_score(y_pred=pred_y,y_true=test_y)\n",
        "f1 = sklearn.metrics.f1_score(y_true=test_y,y_pred=pred_y,average='macro')\n",
        "auc = sklearn.metrics.roc_auc_score(y_true=test_y,y_score=val_preds,multi_class='ovr')\n",
        "prec = sklearn.metrics.precision_score(y_true=test_y,y_pred=pred_y,average='macro')\n",
        "recall = sklearn.metrics.recall_score(y_true=test_y,y_pred=pred_y,average='macro')\n",
        "print(acc,f1,auc,prec,recall)"
      ],
      "metadata": {
        "colab": {
          "base_uri": "https://localhost:8080/"
        },
        "id": "3G-4_Znw6d49",
        "outputId": "793b1bf5-b0d9-4fd9-fe1e-1c631a15e7b9"
      },
      "execution_count": 63,
      "outputs": [
        {
          "output_type": "stream",
          "name": "stdout",
          "text": [
            "0.8225966303270565 0.7413586022202234 0.9910415658526386 0.7995641908079294 0.7188898750139394\n"
          ]
        },
        {
          "output_type": "stream",
          "name": "stderr",
          "text": [
            "/usr/local/lib/python3.7/dist-packages/sklearn/metrics/_classification.py:1318: UndefinedMetricWarning: Precision is ill-defined and being set to 0.0 in labels with no predicted samples. Use `zero_division` parameter to control this behavior.\n",
            "  _warn_prf(average, modifier, msg_start, len(result))\n"
          ]
        }
      ]
    },
    {
      "cell_type": "code",
      "source": [],
      "metadata": {
        "id": "G9Adyc5jptUv"
      },
      "execution_count": null,
      "outputs": []
    }
  ]
}